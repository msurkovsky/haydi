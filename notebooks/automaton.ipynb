{
 "cells": [
  {
   "cell_type": "markdown",
   "metadata": {},
   "source": [
    "Jupyter notebook - QIT DPDA demo\n",
    "==============================="
   ]
  },
  {
   "cell_type": "code",
   "execution_count": 7,
   "metadata": {
    "collapsed": false
   },
   "outputs": [],
   "source": [
    "# add QIT to the path\n",
    "import sys\n",
    "sys.path.insert(0, \"/home/sur096/projects/pyqit/src\")\n"
   ]
  },
  {
   "cell_type": "code",
   "execution_count": 8,
   "metadata": {
    "collapsed": false
   },
   "outputs": [],
   "source": [
    "# import ipywidgets for interactive control elements\n",
    "from __future__ import print_function\n",
    "from ipywidgets import interact, interactive, fixed\n",
    "import ipywidgets as widgets\n",
    "\n",
    "from IPython.display import display"
   ]
  },
  {
   "cell_type": "code",
   "execution_count": 9,
   "metadata": {
    "collapsed": false
   },
   "outputs": [],
   "source": [
    "import qit\n",
    "import qit.ext.automata"
   ]
  },
  {
   "cell_type": "code",
   "execution_count": 10,
   "metadata": {
    "collapsed": false
   },
   "outputs": [],
   "source": [
    "# generate pda\n",
    "def get_pda(n_size=2, s_size=2, a_size=2):\n",
    "    states = qit.Range(n_size)\n",
    "    symbols = qit.Range(s_size)\n",
    "    actions = qit.Range(a_size)\n",
    "    \n",
    "    stack_change = qit.Join((qit.Sequence(symbols, 0),\n",
    "                             qit.Sequence(symbols, 1),\n",
    "                             qit.Sequence(symbols, 2)),\n",
    "                            ratios=(1, 1, 1))\n",
    "\n",
    "    lrule = states * symbols * actions\n",
    "    rrule = states * stack_change\n",
    "    return qit.Mapping(lrule, rrule)"
   ]
  },
  {
   "cell_type": "code",
   "execution_count": 11,
   "metadata": {
    "collapsed": false
   },
   "outputs": [
    {
     "data": {
      "text/plain": [
       "<Mapping size=1475789056 {{(1, 1, 0): (0, ()), (0, 1, 1): (0, ()), (1, , ...}>"
      ]
     },
     "metadata": {},
     "output_type": "display_data"
    }
   ],
   "source": [
    "# widget that may change its parameters\n",
    "pda1 = interactive(get_pda, n_size=(1,6), s_size=(1,3), a_size=(1,3))\n",
    "display(pda1)"
   ]
  },
  {
   "cell_type": "code",
   "execution_count": 13,
   "metadata": {
    "collapsed": false
   },
   "outputs": [
    {
     "ename": "AttributeError",
     "evalue": "'Mapping' object has no attribute 'keys'",
     "output_type": "error",
     "traceback": [
      "\u001b[0;31m---------------------------------------------------------------------------\u001b[0m",
      "\u001b[0;31mAttributeError\u001b[0m                            Traceback (most recent call last)",
      "\u001b[0;32m<ipython-input-13-7c2ce28723cb>\u001b[0m in \u001b[0;36m<module>\u001b[0;34m()\u001b[0m\n\u001b[1;32m      9\u001b[0m \u001b[0;34m\u001b[0m\u001b[0m\n\u001b[1;32m     10\u001b[0m \u001b[0mpda\u001b[0m \u001b[0;34m=\u001b[0m \u001b[0mget_pda\u001b[0m\u001b[0;34m(\u001b[0m\u001b[0;34m)\u001b[0m \u001b[0;31m# I need one instance\u001b[0m\u001b[0;34m\u001b[0m\u001b[0m\n\u001b[0;32m---> 11\u001b[0;31m \u001b[0mpda\u001b[0m\u001b[0;34m.\u001b[0m\u001b[0mkeys\u001b[0m\u001b[0;34m(\u001b[0m\u001b[0;34m)\u001b[0m\u001b[0;34m\u001b[0m\u001b[0m\n\u001b[0m",
      "\u001b[0;31mAttributeError\u001b[0m: 'Mapping' object has no attribute 'keys'"
     ]
    }
   ],
   "source": [
    "def pda_to_graph(pda1):\n",
    "    def rule_fn(lhs, rhs):\n",
    "        state, symbol, action = lhs\n",
    "        new_state, new_symbols = rhs\n",
    "        new_symbols = \",\".join(map(str, new_symbols))\n",
    "        label = \"{},{}/{}\".format(symbol, action, new_symbols)\n",
    "        return (state, label, new_state)\n",
    "    return qit.ext.automata.transition_fn_to_graph(pda1, rule_fn, 0)\n",
    "    \n",
    "pda = get_pda() # I need one instance\n",
    "pda.keys()\n"
   ]
  },
  {
   "cell_type": "code",
   "execution_count": 1,
   "metadata": {
    "collapsed": true
   },
   "outputs": [],
   "source": [
    "from graphviz import Graph"
   ]
  }
 ],
 "metadata": {
  "kernelspec": {
   "display_name": "Python 2",
   "language": "python",
   "name": "python2"
  },
  "language_info": {
   "codemirror_mode": {
    "name": "ipython",
    "version": 2
   },
   "file_extension": ".py",
   "mimetype": "text/x-python",
   "name": "python",
   "nbconvert_exporter": "python",
   "pygments_lexer": "ipython2",
   "version": "2.7.10"
  },
  "widgets": {
   "state": {
    "436c0d6ebecc4beea2f0332fb63837f5": {
     "views": [
      {
       "cell_index": 5
      }
     ]
    }
   },
   "version": "1.2.0"
  }
 },
 "nbformat": 4,
 "nbformat_minor": 1
}
