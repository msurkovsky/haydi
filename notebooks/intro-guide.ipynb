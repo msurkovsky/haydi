{
 "cells": [
  {
   "cell_type": "markdown",
   "metadata": {},
   "source": [
    "# Haydi - How to create your own program\n",
    "\n",
    "This text presents an introductory guide that should help people to create their own program using **Haydi** framework. Haydi is a framework focusing on combinatorics problems. It allows users to formulate their problems easily and lets them check whether or not certain criteria are met. Moreover, instances confirming or contradicting the hypotheses are provided. The advantage of using Haydi is that the **resulting program can run directly on a supercomputer**, hence quite large structures can be examined. On the other hand, such infrastructure is not demanded and programs may run on one standard PC or distributively among a specific number of PCs.\n",
    "\n",
    "\n",
    "Here a user can find a **step-by-step tutorial built upon a specific problem**; particulary, Cerny's hypothesis about [synchronizing words](https://en.wikipedia.org/wiki/Synchronizing_word) in deterministic finite automata (DFA). The hypotesis states the question: _if a DFA has a synchronizing word, must it have one of length at most $(n − 1)^2$?_ This is an open question and the resulting program does not have an ambition to solve it. But it shows how much or perhaps how little effort it may take to create such a program and how large instances can be checked with it.\n",
    "\n",
    "## Definitions\n",
    "\n",
    "**Deterministic finite automaton**, is a 5-tuple, $(Q,\\Sigma, \\delta, q_0, F)$, consisting of:\n",
    " * $Q$, a finite set of states\n",
    " * $\\Sigma$, a finite set of symbols called aplphabet\n",
    " * $\\delta: Q \\times S \\to Q$, a transition function\n",
    " * $q_0 \\in Q$, an initial state,\n",
    " * $F \\subseteq Q$, a subset of final states\n",
    " \n",
    "\n",
    "**Synchronizing word**, is a finite sequnce of symbols from alphabet, $\\sigma \\in \\Sigma^*$, with a property that no matter at which state an automaton starts, following $\\sigma$ word leads to the same state, i.e. $\\forall q \\in Q, \\exists q' \\in Q: q \\xrightarrow{\\sigma} q'$.\n",
    "\n",
    "## Making a program\n",
    "Here we start making our first program using Haydi framwork. The problem of *synchronizing words* is well-known among people from the area of theoretical computer science. This problem was chosen because it is easily explainable to people while containing enough complexity; such programm will contain most of the structures and constructs that can help you to create your own program.\n",
    "\n",
    "### Before we start\n",
    "Before we can even start we need to **install Haydi**. Haydi is available on [GitHub](https://github.com/spirali/haydi) as an open-source project. It is distributed as a module that can be used in [Python](https://www.python.org/) language. All the necessary information about instalaction and project's structure can be found on its page.\n",
    "\n",
    "### Link the project and import Haidy modul\n",
    "First of all, when we start making our new program, we need to tell where Haydi modul is located and put the location into program's path. We can do this as follows:"
   ]
  },
  {
   "cell_type": "code",
   "execution_count": 1,
   "metadata": {
    "collapsed": true
   },
   "outputs": [],
   "source": [
    "import sys\n",
    "sys.path.insert(0, \"../src\") # the program is placed in subdirectory of project's root"
   ]
  },
  {
   "cell_type": "markdown",
   "metadata": {},
   "source": [
    "At this point we can import Haydi modul. It cointain all of the structures that are par of public API. All the structures with their description can be found in the [reference manual](http://haydi.readthedocs.io/en/scheduler/index.html)."
   ]
  },
  {
   "cell_type": "code",
   "execution_count": 2,
   "metadata": {
    "collapsed": false
   },
   "outputs": [],
   "source": [
    "import haydi as hd"
   ]
  },
  {
   "cell_type": "markdown",
   "metadata": {},
   "source": [
    "### Prepare the structures\n",
    "Here we are in state when we succesfully installed Haydi, linked it to our program, and import the module. Now, we can start to make our program.\n",
    "\n",
    "As stated in the introduction, Haydi is a suitable framework for programs that either systematicaly or randomly explore a bunch of a problem's instances and find those satisfying certain criteria. In this context, **the first task** we are going to address, is to define that _bunch_ of the problem's instances.\n",
    "\n",
    "The very basic structure in Haydi is [**Domain**](http://haydi.readthedocs.io/en/scheduler/domains.html). It represents a common interface for defining a set of data and how to work with it. A domain can be created by using one from the predefined or as composition of those already created. An example of simple domain is [**Range(start, end, step)**](http://haydi.readthedocs.io/en/scheduler/domains.html#haydi-range-range-of-integers), that defines a sequence of integers going from _start_ upto _end_ with _step_ between values.\n",
    "\n",
    "To find a synchronizing automanton, we need to define its structure. From definition we see that finite automaton is 5-tuple of specific items. First two are a set of states $Q$ and alphabet $\\Sigma$. We can describe them by using _Range_ domain as follows."
   ]
  },
  {
   "cell_type": "code",
   "execution_count": 3,
   "metadata": {
    "collapsed": false
   },
   "outputs": [],
   "source": [
    "# our structure is describing all finite automata with three states and two symbols in alphabet.\n",
    "nstates = 3  # number of states\n",
    "nsymbols = 2 # number of letters in alphabet\n",
    "\n",
    "states = hd.Range(nstates)\n",
    "alphabet = hd.Range(nsymbols)"
   ]
  },
  {
   "cell_type": "markdown",
   "metadata": {},
   "source": [
    "The thrid item is transition function. The definition states that from a pair of state and symbol we derive a new state. We split definition of the transition function into two steps. First of all, we define its left-hand side. To do that we need to create Cartesian product upon the sets of _states_ and _alphabet_. Cartesian product is represented by [Product((domain1[, domain2[, ...]])](http://haydi.readthedocs.io/en/scheduler/domains.html#haydi-product-caretesian-product) domain. For the right-hand side we already have the domain, _states_. Now we can put both sides together via [Mapping(key_domain,value_domain)](http://haydi.readthedocs.io/en/scheduler/domains.html#haydi-mapping)."
   ]
  },
  {
   "cell_type": "code",
   "execution_count": 7,
   "metadata": {
    "collapsed": false
   },
   "outputs": [],
   "source": [
    "lrule = hd.Product((states, alphabet)) # define the left rule of the transition function\n",
    "\n",
    "# alternatively we can define lrule by using a '*' operator:\n",
    "# lrule = states * alphabet\n",
    "\n",
    "deltaf = hd.Mapping(lrule, states)"
   ]
  },
  {
   "cell_type": "markdown",
   "metadata": {
    "collapsed": true
   },
   "source": [
    "At this moment, we have defined all basic structures we need to check whether or not a given DFA is synchronizable."
   ]
  },
  {
   "cell_type": "markdown",
   "metadata": {},
   "source": [
    "### Compute synchronizing word\n",
    "The problem of finding the shortest synchronizing word is known to be NP-Complete; therefore, to compute the shortest synchronizing word we need to find a sequence, $\\sigma \\in \\Sigma^*$ of as many simultaneous runs as the number of states. Each run starts in different state and the aim is to find the $\\sigma$ sequence leading to one state.\n",
    "\n",
    "In other words, we are looking for a path in a new automaton $A'$ that is build from the original one; the set of states makes power set of original automanton states, as the initial state is used a state representing a set containing all original states, and the set of final states are all singleton sets.\n",
    "\n",
    "Such a system can be also viewed as a [Label Transition System](https://en.wikipedia.org/wiki/Transition_system) (LTS). For this purpose Haydi contains a basic (abstract) implementation of [**DLTS**](http://haydi.readthedocs.io/en/scheduler/api-lts.html), where *D* states for *Deterministic*. For a specific system we need to create a new class, that inherits from the basic *DLTS* and implement **step(state, action)** method. We define **DfaLTS** as follows:"
   ]
  },
  {
   "cell_type": "code",
   "execution_count": null,
   "metadata": {
    "collapsed": true
   },
   "outputs": [],
   "source": [
    "class DfaLTS(hd.DLTS):\n",
    "    def __init__(self, dfa, actions):\n",
    "        hd.DLTS.__init__(self, actions)\n",
    "        self.dfa = dfa\n",
    "\n",
    "    def step(self, state, action):\n",
    "        return self.dfa[(state, action)]\n"
   ]
  },
  {
   "cell_type": "markdown",
   "metadata": {},
   "source": []
  },
  {
   "cell_type": "code",
   "execution_count": null,
   "metadata": {
    "collapsed": true
   },
   "outputs": [],
   "source": [
    "    \"\"\"\"\n",
    "    def compute_shortes_sword(dfa):\n",
    "        dfa_lts = DfaLTS(dfa, actions)\n",
    "        lts_n_tuple = hd.DLTSProduct(tuple(dfa_lts for i in xrange(N_SIZE)))\n",
    "\n",
    "        def same_states(states_path_pair):\n",
    "            states = states_path_pair[0]\n",
    "            return all(s == states[0] for s in states)\n",
    "\n",
    "        witnesses = lts_n_tuple.bfs_path(tuple(range(N_SIZE))) \\\n",
    "                                    .filter(same_states) \\\n",
    "                                    .max_all(lambda (states, path): -len(path)) \\\n",
    "                                    .run()\n",
    "\n",
    "        # (dfa, the length, [(sync_state, path)])\n",
    "        return (dfa, len(witnesses[0][1]), [(states[0], path)\n",
    "                                            for (states, path) in witnesses])\n",
    "        \"\"\"\n"
   ]
  },
  {
   "cell_type": "markdown",
   "metadata": {},
   "source": [
    "### Entire program"
   ]
  },
  {
   "cell_type": "code",
   "execution_count": null,
   "metadata": {
    "collapsed": true
   },
   "outputs": [],
   "source": []
  }
 ],
 "metadata": {
  "kernelspec": {
   "display_name": "Python 2",
   "language": "python",
   "name": "python2"
  },
  "language_info": {
   "codemirror_mode": {
    "name": "ipython",
    "version": 2
   },
   "file_extension": ".py",
   "mimetype": "text/x-python",
   "name": "python",
   "nbconvert_exporter": "python",
   "pygments_lexer": "ipython2",
   "version": "2.7.10"
  }
 },
 "nbformat": 4,
 "nbformat_minor": 1
}
