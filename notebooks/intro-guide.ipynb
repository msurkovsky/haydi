{
 "cells": [
  {
   "cell_type": "markdown",
   "metadata": {},
   "source": [
    "Haydi - How to create your own program\n",
    "======================================\n",
    "\n",
    "This text presents an introductory guide that should help people to create their own program using **Haydi** framework. Haydi is a framework focusing on combinatorics problems. It allows users to formulate their problems easily and lets them check whether or not certain criteria are met. Moreover, instances confirming or contradicting the hypotheses are provided. The advantage of using Haydi is that the **resulting program can run directly on a supercomputer**, hence quite large structures can be examined. On the other hand, such infrastructure is not demanded and programs may run on one standard PC or distributively among a specific number of PCs.\n",
    "\n",
    "\n",
    "Here a user can find a step-by-step tutorial built upon a specific problem; particulary, Cerny's hypothesis about [synchronizing words](https://en.wikipedia.org/wiki/Synchronizing_word) in deterministic finite automata (DFA). The hypotesis states the question: _if a DFA has a synchronizing word, must it have one of length at most $(n − 1)^2$?_ This is an open question and the resulting program does not have an ambition to solve it. But it shows how much or perhapshow little effort it may take to create such a program and how large instances can be checked with it.\n",
    "\n",
    "Definitions\n",
    "-----------\n",
    "**Deterministic finite automaton**, is a 5-tuple, $(Q,\\Sigma, \\delta, q_0, F)$, consisting of:\n",
    " * $Q$, a finite set of states\n",
    " * $\\Sigma$, a finite set of symbols called aplphabet\n",
    " * $\\delta: Q \\times S \\to Q$, a transition function\n",
    " * $q_0 \\in Q$, an initial state,\n",
    " * $F \\subseteq Q$, a subset of final states\n",
    " \n",
    "\n",
    "**Synchronizing word**, is a finite sequnce of symbols from alphabet, $\\sigma \\in \\Sigma^*$, with a property that no matter at which state an automaton starts, following $\\sigma$ word leads to the same state, i.e. $\\forall q \\in Q, \\exists q' \\in Q: q \\xrightarrow{\\sigma} q'$."
   ]
  },
  {
   "cell_type": "code",
   "execution_count": 2,
   "metadata": {
    "collapsed": true
   },
   "outputs": [],
   "source": [
    "import sys\n",
    "sys.path.insert(0, \"../src\")"
   ]
  },
  {
   "cell_type": "code",
   "execution_count": 7,
   "metadata": {
    "collapsed": false
   },
   "outputs": [],
   "source": [
    "import haydi as hd"
   ]
  },
  {
   "cell_type": "code",
   "execution_count": 8,
   "metadata": {
    "collapsed": true
   },
   "outputs": [],
   "source": [
    "x = hd.Range(4)"
   ]
  },
  {
   "cell_type": "code",
   "execution_count": 9,
   "metadata": {
    "collapsed": false
   },
   "outputs": [
    {
     "name": "stdout",
     "output_type": "stream",
     "text": [
      "<Range size=4 {0, 1, 2, 3}>\n"
     ]
    }
   ],
   "source": [
    "print x"
   ]
  },
  {
   "cell_type": "code",
   "execution_count": null,
   "metadata": {
    "collapsed": true
   },
   "outputs": [],
   "source": []
  }
 ],
 "metadata": {
  "kernelspec": {
   "display_name": "Python 2",
   "language": "python",
   "name": "python2"
  },
  "language_info": {
   "codemirror_mode": {
    "name": "ipython",
    "version": 2
   },
   "file_extension": ".py",
   "mimetype": "text/x-python",
   "name": "python",
   "nbconvert_exporter": "python",
   "pygments_lexer": "ipython2",
   "version": "2.7.10"
  }
 },
 "nbformat": 4,
 "nbformat_minor": 1
}
