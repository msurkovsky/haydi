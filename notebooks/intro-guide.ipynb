{
 "cells": [
  {
   "cell_type": "markdown",
   "metadata": {},
   "source": [
    "# Haydi - How to create your own program\n",
    "\n",
    "This text presents an introductory guide that should help people to create their own program using **Haydi** framework. Haydi is a framework focusing on combinatorics problems. It allows users to formulate their problems easily and lets them check whether or not certain criteria are met. Moreover, instances confirming or contradicting the hypotheses are provided. The advantage of using Haydi is that the **resulting program can run directly on a supercomputer**, hence quite large structures can be examined. On the other hand, such infrastructure is not demanded and programs may run on one standard PC or distributively among a specific number of PCs.\n",
    "\n",
    "\n",
    "Here a user can find a **step-by-step tutorial built upon a specific problem**; particulary, Cerny's hypothesis about [synchronizing words](https://en.wikipedia.org/wiki/Synchronizing_word) in deterministic finite automata (DFA). The hypotesis states the question: _if a DFA has a synchronizing word, must it have one of length at most $(n − 1)^2$?_ This is an open question and the resulting program does not have an ambition to solve it. But it shows how much or perhaps how little effort it may take to create such a program and how large instances can be checked with it.\n",
    "\n",
    "## Definitions\n",
    "\n",
    "**Deterministic finite automaton**, is a 5-tuple, $(Q,\\Sigma, \\delta, q_0, F)$, consisting of:\n",
    " * $Q$, a finite set of states\n",
    " * $\\Sigma$, a finite set of symbols called aplphabet\n",
    " * $\\delta: Q \\times S \\to Q$, a transition function\n",
    " * $q_0 \\in Q$, an initial state,\n",
    " * $F \\subseteq Q$, a subset of final states\n",
    " \n",
    "\n",
    "**Synchronizing word**, is a finite sequnce of symbols from alphabet, $\\sigma \\in \\Sigma^*$, with a property that no matter at which state an automaton starts, following $\\sigma$ word leads to the same state, i.e. $\\forall q \\in Q, \\exists q' \\in Q: q \\xrightarrow{\\sigma} q'$.\n",
    "\n",
    "## Making a program\n",
    "Here we start making our first program using Haydi framwork. The problem of *synchronizing words* is well-known among people from the area of theoretical computer science. This problem was chosen because it is easily explainable to people while containing enough complexity; such programm will contain most of the structures and constructs that can help you to create your own program.\n",
    "\n",
    "### Before we start\n",
    "Before we can even start we need to **install Haydi**. Haydi is available on [GitHub](https://github.com/spirali/haydi) as an open-source project. It is distributed as a module that can be used in [Python](https://www.python.org/) language. All the necessary information about instalaction and project's structure can be found on its page.\n",
    "\n",
    "### Link the project and import Haidy modul\n",
    "First of all, when we start making our new program, we need to tell where Haydi modul is located and put the location into program's path. We can do this as follows:"
   ]
  },
  {
   "cell_type": "code",
   "execution_count": 27,
   "metadata": {
    "collapsed": true
   },
   "outputs": [],
   "source": [
    "import sys\n",
    "sys.path.insert(0, \"../src\") # the program is placed in subdirectory of project's root"
   ]
  },
  {
   "cell_type": "markdown",
   "metadata": {},
   "source": [
    "At this point we can import Haydi modul. It cointain all of the structures that are par of public API. All the structures with their description can be found in the [reference manual](http://haydi.readthedocs.io/en/scheduler/index.html)."
   ]
  },
  {
   "cell_type": "code",
   "execution_count": 28,
   "metadata": {
    "collapsed": false
   },
   "outputs": [],
   "source": [
    "import haydi as hd"
   ]
  },
  {
   "cell_type": "markdown",
   "metadata": {},
   "source": [
    "### Prepare the structures\n",
    "Here we are in state when we succesfully installed Haydi, linked it to our program, and import the module. Now, we can start to make our program.\n",
    "\n",
    "As stated in the introduction, Haydi is a suitable framework for programs that either systematicaly or randomly explore a bunch of a problem's instances and find those satisfying certain criteria. In this context, **the first task** we are going to address, is to define that _bunch_ of the problem's instances.\n",
    "\n",
    "The very basic structure in Haydi is [**Domain**](http://haydi.readthedocs.io/en/scheduler/domains.html). It represents a common interface for defining a set of data and how to work with it. A domain can be created by using one from the predefined or as composition of those already created. An example of simple domain is [**Range(start, end, step)**](http://haydi.readthedocs.io/en/scheduler/domains.html#haydi-range-range-of-integers), that defines a sequence of integers going from _start_ upto _end_ with _step_ between values.\n",
    "\n",
    "To find a synchronizing automanton, we need to define its structure. From definition we see that finite automaton is 5-tuple of specific items. First two are a set of states $Q$ and alphabet $\\Sigma$. We can describe them by using _Range_ domain as follows."
   ]
  },
  {
   "cell_type": "code",
   "execution_count": 29,
   "metadata": {
    "collapsed": false
   },
   "outputs": [],
   "source": [
    "# our structure is describing all finite automata with three states and two symbols in alphabet.\n",
    "nstates = 3  # number of states\n",
    "nsymbols = 2 # number of letters in alphabet\n",
    "\n",
    "states = hd.Range(nstates)\n",
    "alphabet = hd.Range(nsymbols)"
   ]
  },
  {
   "cell_type": "markdown",
   "metadata": {},
   "source": [
    "The thrid item is transition function. The definition states that from a pair of state and symbol we derive a new state. We split definition of the transition function into two steps. First of all, we define its left-hand side. To do that we need to create Cartesian product upon the sets of _states_ and _alphabet_. Cartesian product is represented by [Product((domain1[, domain2[, ...]])](http://haydi.readthedocs.io/en/scheduler/domains.html#haydi-product-caretesian-product) domain. For the right-hand side we already have the domain, _states_. Now we can put both sides together via [Mapping(key_domain,value_domain)](http://haydi.readthedocs.io/en/scheduler/domains.html#haydi-mapping)."
   ]
  },
  {
   "cell_type": "code",
   "execution_count": 30,
   "metadata": {
    "collapsed": false
   },
   "outputs": [],
   "source": [
    "lrule = hd.Product((states, alphabet)) # define the left rule of the transition function\n",
    "\n",
    "# alternatively we can define lrule by using a '*' operator:\n",
    "# lrule = states * alphabet\n",
    "\n",
    "deltaf = hd.Mapping(lrule, states)"
   ]
  },
  {
   "cell_type": "markdown",
   "metadata": {
    "collapsed": true
   },
   "source": [
    "At this moment, we have defined all basic structures we need to check whether or not a given DFA is synchronizable."
   ]
  },
  {
   "cell_type": "markdown",
   "metadata": {},
   "source": [
    "### Compute synchronizing word\n",
    "The problem of finding the shortest synchronizing word is known to be NP-Complete; therefore, to compute the shortest synchronizing word we need to find a sequence, $\\sigma \\in \\Sigma^*$ of as many simultaneous runs as the number of states. Each run starts in different state and the aim is to find the $\\sigma$ sequence leading to one state.\n",
    "\n",
    "In other words, we are looking for a path in a new automaton $A'$ that is build from the original one; the set of states makes power set of original automanton states, as the initial state is used a state representing a set containing all original states, and the set of final states are all singleton sets.\n",
    "\n",
    "Such a system can be also viewed as a [Label Transition System](https://en.wikipedia.org/wiki/Transition_system) (LTS). For this purpose Haydi contains a basic (abstract) implementation of [**DLTS**](http://haydi.readthedocs.io/en/scheduler/api-lts.html), where *D* states for *Deterministic*. For a specific system we need to create a new class, that inherits from the basic *DLTS* and implement **step(state, action)** method. We define **DfaLTS** as follows:"
   ]
  },
  {
   "cell_type": "code",
   "execution_count": 31,
   "metadata": {
    "collapsed": false
   },
   "outputs": [],
   "source": [
    "class DfaLTS(hd.DLTS):\n",
    "    def __init__(self, deltaf, actions):\n",
    "        hd.DLTS.__init__(self, actions)\n",
    "        self.deltaf = deltaf\n",
    "\n",
    "    def step(self, state, action):\n",
    "        return self.deltaf[(state, action)]\n"
   ]
  },
  {
   "cell_type": "markdown",
   "metadata": {},
   "source": [
    "Now, we can define a procedure that computes the shortest synchronizing word of a given DFA. Firstly, we instantiate DFA with **DfaLTS** and the definition of **$\\delta$ function**. Then we create $n$-tuple, where $n$ is a number of states. For this purpose we use a specific implementation of product for DLTS; **DLTSProduct((dlts1[, dlts2[, ...]]))**. Such a system we can explore and find the shortest path from the initial state, $\\{q_1, q_2, \\cdots, q_n\\}, q_i \\in Q, i \\in \\mathbb{N}$, to a singleton state, $\\{q\\}, q \\in Q$.\n",
    "\n",
    "DLTS object supports a set of Breath First Search (BFS) procedures. In this case we use **bfs_path** that returns not only resulting found element (state) but also a path leading to it.\n",
    "\n",
    "**TODO: document run (? actions)**"
   ]
  },
  {
   "cell_type": "code",
   "execution_count": 66,
   "metadata": {
    "collapsed": false
   },
   "outputs": [],
   "source": [
    "def compute_shortest_sync_word(delta_f):\n",
    "    dfa = DfaLTS(delta_f, alphabet)\n",
    "    dfa_n_tuple = hd.DLTSProduct(tuple(dfa for i in range(nstates)))\n",
    "    \n",
    "    init_state = range(nstates)\n",
    "    is_final = lambda (states, path): len(set(states)) == 1 # singleton state\n",
    "    is_shortest = lambda (states, path): -len(path)\n",
    "    \n",
    "    # (1) run BFS procedure\n",
    "    # (2) filter only those paths that leads a final state\n",
    "    # (3) take only shortest paths\n",
    "    # (4) take one representative\n",
    "    sync_state, path = dfa_n_tuple.bfs_path(init_state)\\\n",
    "                                  .filter(is_final)\\\n",
    "                                  .max_all(is_shortest)\\\n",
    "                                  .take(1)\\\n",
    "                                  .run()\n",
    "                    \n",
    "    #(transition function, the length of the shortest path, path, and synchronizing state)\n",
    "    return (delta_f, len(path), path, sync_state)"
   ]
  },
  {
   "cell_type": "markdown",
   "metadata": {},
   "source": [
    "We have all parts we need and cat put it alltogether into resulting program."
   ]
  },
  {
   "cell_type": "markdown",
   "metadata": {},
   "source": [
    "### Entire program"
   ]
  },
  {
   "cell_type": "code",
   "execution_count": 74,
   "metadata": {
    "collapsed": false
   },
   "outputs": [
    {
     "name": "stdout",
     "output_type": "stream",
     "text": [
      "<Range size=3 {0, 1, 2}> <Range size=2 {0, 1}>\n",
      "<haydi.base.lts.DLTSProduct object at 0x7fda7fbbbb90>\n"
     ]
    },
    {
     "ename": "NotImplementedError",
     "evalue": "",
     "output_type": "error",
     "traceback": [
      "\u001b[0;31m---------------------------------------------------------------------------\u001b[0m",
      "\u001b[0;31mNotImplementedError\u001b[0m                       Traceback (most recent call last)",
      "\u001b[0;32m<ipython-input-74-23ca9d206db4>\u001b[0m in \u001b[0;36m<module>\u001b[0;34m()\u001b[0m\n\u001b[1;32m     43\u001b[0m \u001b[0;32mif\u001b[0m \u001b[0m__name__\u001b[0m \u001b[0;34m==\u001b[0m \u001b[0;34m\"__main__\"\u001b[0m\u001b[0;34m:\u001b[0m\u001b[0;34m\u001b[0m\u001b[0m\n\u001b[1;32m     44\u001b[0m \u001b[0;34m\u001b[0m\u001b[0m\n\u001b[0;32m---> 45\u001b[0;31m     \u001b[0mresult\u001b[0m \u001b[0;34m=\u001b[0m \u001b[0mcompute\u001b[0m\u001b[0;34m(\u001b[0m\u001b[0;36m3\u001b[0m\u001b[0;34m,\u001b[0m \u001b[0;36m2\u001b[0m\u001b[0;34m)\u001b[0m\u001b[0;34m\u001b[0m\u001b[0m\n\u001b[0m\u001b[1;32m     46\u001b[0m     \u001b[0;32mprint\u001b[0m \u001b[0mresult\u001b[0m\u001b[0;34m\u001b[0m\u001b[0m\n",
      "\u001b[0;32m<ipython-input-74-23ca9d206db4>\u001b[0m in \u001b[0;36mcompute\u001b[0;34m(nstates, nsymbols)\u001b[0m\n\u001b[1;32m     38\u001b[0m     \u001b[0mdeltaf\u001b[0m \u001b[0;34m=\u001b[0m \u001b[0mhd\u001b[0m\u001b[0;34m.\u001b[0m\u001b[0mMapping\u001b[0m\u001b[0;34m(\u001b[0m\u001b[0mlrule\u001b[0m\u001b[0;34m,\u001b[0m \u001b[0mstates\u001b[0m\u001b[0;34m)\u001b[0m\u001b[0;34m\u001b[0m\u001b[0m\n\u001b[1;32m     39\u001b[0m \u001b[0;34m\u001b[0m\u001b[0m\n\u001b[0;32m---> 40\u001b[0;31m     \u001b[0;32mreturn\u001b[0m \u001b[0mdeltaf\u001b[0m\u001b[0;34m.\u001b[0m\u001b[0mtake\u001b[0m\u001b[0;34m(\u001b[0m\u001b[0;36m1\u001b[0m\u001b[0;34m)\u001b[0m\u001b[0;34m.\u001b[0m\u001b[0mmap\u001b[0m\u001b[0;34m(\u001b[0m\u001b[0mcompute_shortest_sync_word\u001b[0m\u001b[0;34m)\u001b[0m\u001b[0;34m.\u001b[0m\u001b[0mrun\u001b[0m\u001b[0;34m(\u001b[0m\u001b[0;34m)\u001b[0m\u001b[0;34m\u001b[0m\u001b[0m\n\u001b[0m\u001b[1;32m     41\u001b[0m \u001b[0;34m\u001b[0m\u001b[0m\n\u001b[1;32m     42\u001b[0m \u001b[0;34m\u001b[0m\u001b[0m\n",
      "\u001b[0;32m/home/sur096/projects/pyqit/src/haydi/base/domain.pyc\u001b[0m in \u001b[0;36mrun\u001b[0;34m(self, parallel, timeout)\u001b[0m\n\u001b[1;32m    167\u001b[0m     \u001b[0;32mdef\u001b[0m \u001b[0mrun\u001b[0m\u001b[0;34m(\u001b[0m\u001b[0mself\u001b[0m\u001b[0;34m,\u001b[0m \u001b[0mparallel\u001b[0m\u001b[0;34m=\u001b[0m\u001b[0mFalse\u001b[0m\u001b[0;34m,\u001b[0m \u001b[0mtimeout\u001b[0m\u001b[0;34m=\u001b[0m\u001b[0mNone\u001b[0m\u001b[0;34m)\u001b[0m\u001b[0;34m:\u001b[0m\u001b[0;34m\u001b[0m\u001b[0m\n\u001b[1;32m    168\u001b[0m         \u001b[0;34m\"\"\"A shortuct for ``self.collect.run(parallel)``\"\"\"\u001b[0m\u001b[0;34m\u001b[0m\u001b[0m\n\u001b[0;32m--> 169\u001b[0;31m         \u001b[0;32mreturn\u001b[0m \u001b[0mself\u001b[0m\u001b[0;34m.\u001b[0m\u001b[0mcollect\u001b[0m\u001b[0;34m(\u001b[0m\u001b[0;34m)\u001b[0m\u001b[0;34m.\u001b[0m\u001b[0mrun\u001b[0m\u001b[0;34m(\u001b[0m\u001b[0mparallel\u001b[0m\u001b[0;34m,\u001b[0m \u001b[0mtimeout\u001b[0m\u001b[0;34m)\u001b[0m\u001b[0;34m\u001b[0m\u001b[0m\n\u001b[0m\u001b[1;32m    170\u001b[0m \u001b[0;34m\u001b[0m\u001b[0m\n\u001b[1;32m    171\u001b[0m     \u001b[0;32mdef\u001b[0m \u001b[0mcreate_iter\u001b[0m\u001b[0;34m(\u001b[0m\u001b[0mself\u001b[0m\u001b[0;34m,\u001b[0m \u001b[0mstep\u001b[0m\u001b[0;34m=\u001b[0m\u001b[0;36m0\u001b[0m\u001b[0;34m)\u001b[0m\u001b[0;34m:\u001b[0m\u001b[0;34m\u001b[0m\u001b[0m\n",
      "\u001b[0;32m/home/sur096/projects/pyqit/src/haydi/base/action.pyc\u001b[0m in \u001b[0;36mrun\u001b[0;34m(self, parallel, timeout)\u001b[0m\n\u001b[1;32m     27\u001b[0m                          \u001b[0mself\u001b[0m\u001b[0;34m.\u001b[0m\u001b[0mglobal_reduce_fn\u001b[0m\u001b[0;34m,\u001b[0m\u001b[0;34m\u001b[0m\u001b[0m\n\u001b[1;32m     28\u001b[0m                          \u001b[0mself\u001b[0m\u001b[0;34m.\u001b[0m\u001b[0mglobal_reduce_init\u001b[0m\u001b[0;34m,\u001b[0m\u001b[0;34m\u001b[0m\u001b[0m\n\u001b[0;32m---> 29\u001b[0;31m                          timeout)\n\u001b[0m\u001b[1;32m     30\u001b[0m         \u001b[0;32mreturn\u001b[0m \u001b[0mself\u001b[0m\u001b[0;34m.\u001b[0m\u001b[0mpostprocess\u001b[0m\u001b[0;34m(\u001b[0m\u001b[0mresult\u001b[0m\u001b[0;34m)\u001b[0m\u001b[0;34m\u001b[0m\u001b[0m\n\u001b[1;32m     31\u001b[0m \u001b[0;34m\u001b[0m\u001b[0m\n",
      "\u001b[0;32m/home/sur096/projects/pyqit/src/haydi/base/runtime/serialcontext.pyc\u001b[0m in \u001b[0;36mrun\u001b[0;34m(self, domain, worker_reduce_fn, worker_reduce_init, global_reduce_fn, global_reduce_init, timeout)\u001b[0m\n\u001b[1;32m     17\u001b[0m             \u001b[0mresult\u001b[0m \u001b[0;34m=\u001b[0m \u001b[0mreduce\u001b[0m\u001b[0;34m(\u001b[0m\u001b[0mworker_reduce_fn\u001b[0m\u001b[0;34m,\u001b[0m \u001b[0mit\u001b[0m\u001b[0;34m,\u001b[0m \u001b[0mfirst\u001b[0m\u001b[0;34m)\u001b[0m\u001b[0;34m\u001b[0m\u001b[0m\n\u001b[1;32m     18\u001b[0m         \u001b[0;32melse\u001b[0m\u001b[0;34m:\u001b[0m\u001b[0;34m\u001b[0m\u001b[0m\n\u001b[0;32m---> 19\u001b[0;31m             \u001b[0mresult\u001b[0m \u001b[0;34m=\u001b[0m \u001b[0mlist\u001b[0m\u001b[0;34m(\u001b[0m\u001b[0mdomain\u001b[0m\u001b[0;34m.\u001b[0m\u001b[0mcreate_iter\u001b[0m\u001b[0;34m(\u001b[0m\u001b[0;34m)\u001b[0m\u001b[0;34m)\u001b[0m\u001b[0;34m\u001b[0m\u001b[0m\n\u001b[0m\u001b[1;32m     20\u001b[0m \u001b[0;34m\u001b[0m\u001b[0m\n\u001b[1;32m     21\u001b[0m         \u001b[0;32mif\u001b[0m \u001b[0mglobal_reduce_fn\u001b[0m\u001b[0;34m:\u001b[0m\u001b[0;34m\u001b[0m\u001b[0m\n",
      "\u001b[0;32m/home/sur096/projects/pyqit/src/haydi/base/transform.pyc\u001b[0m in \u001b[0;36m<genexpr>\u001b[0;34m((x,))\u001b[0m\n\u001b[1;32m     64\u001b[0m     \u001b[0;32mdef\u001b[0m \u001b[0mcreate_iter\u001b[0m\u001b[0;34m(\u001b[0m\u001b[0mself\u001b[0m\u001b[0;34m,\u001b[0m \u001b[0mstep\u001b[0m\u001b[0;34m=\u001b[0m\u001b[0;36m0\u001b[0m\u001b[0;34m)\u001b[0m\u001b[0;34m:\u001b[0m\u001b[0;34m\u001b[0m\u001b[0m\n\u001b[1;32m     65\u001b[0m         \u001b[0mfn\u001b[0m \u001b[0;34m=\u001b[0m \u001b[0mself\u001b[0m\u001b[0;34m.\u001b[0m\u001b[0mfn\u001b[0m\u001b[0;34m\u001b[0m\u001b[0m\n\u001b[0;32m---> 66\u001b[0;31m         \u001b[0;32mreturn\u001b[0m \u001b[0;34m(\u001b[0m\u001b[0mfn\u001b[0m\u001b[0;34m(\u001b[0m\u001b[0mx\u001b[0m\u001b[0;34m)\u001b[0m \u001b[0;32mfor\u001b[0m \u001b[0mx\u001b[0m \u001b[0;32min\u001b[0m \u001b[0mself\u001b[0m\u001b[0;34m.\u001b[0m\u001b[0mparent\u001b[0m\u001b[0;34m.\u001b[0m\u001b[0mcreate_iter\u001b[0m\u001b[0;34m(\u001b[0m\u001b[0mstep\u001b[0m\u001b[0;34m)\u001b[0m\u001b[0;34m)\u001b[0m\u001b[0;34m\u001b[0m\u001b[0m\n\u001b[0m\u001b[1;32m     67\u001b[0m \u001b[0;34m\u001b[0m\u001b[0m\n\u001b[1;32m     68\u001b[0m     \u001b[0;32mdef\u001b[0m \u001b[0mcreate_step_iter\u001b[0m\u001b[0;34m(\u001b[0m\u001b[0mself\u001b[0m\u001b[0;34m,\u001b[0m \u001b[0mstep\u001b[0m\u001b[0;34m=\u001b[0m\u001b[0;36m0\u001b[0m\u001b[0;34m)\u001b[0m\u001b[0;34m:\u001b[0m\u001b[0;34m\u001b[0m\u001b[0m\n",
      "\u001b[0;32m<ipython-input-74-23ca9d206db4>\u001b[0m in \u001b[0;36mcompute_shortest_sync_word\u001b[0;34m(delta_f)\u001b[0m\n\u001b[1;32m     30\u001b[0m         \u001b[0;31m# (2) filter only those paths that leads a final state\u001b[0m\u001b[0;34m\u001b[0m\u001b[0;34m\u001b[0m\u001b[0m\n\u001b[1;32m     31\u001b[0m         \u001b[0;31m# (3) take only shortest paths\u001b[0m\u001b[0;34m\u001b[0m\u001b[0;34m\u001b[0m\u001b[0m\n\u001b[0;32m---> 32\u001b[0;31m         \u001b[0msync_state\u001b[0m\u001b[0;34m,\u001b[0m \u001b[0mpath\u001b[0m \u001b[0;34m=\u001b[0m \u001b[0mdfa_n_tuple\u001b[0m\u001b[0;34m.\u001b[0m\u001b[0mbfs_path\u001b[0m\u001b[0;34m(\u001b[0m\u001b[0minit_state\u001b[0m\u001b[0;34m)\u001b[0m                                      \u001b[0;34m.\u001b[0m\u001b[0mfilter\u001b[0m\u001b[0;34m(\u001b[0m\u001b[0mis_final\u001b[0m\u001b[0;34m)\u001b[0m                                      \u001b[0;34m.\u001b[0m\u001b[0mmax_all\u001b[0m\u001b[0;34m(\u001b[0m\u001b[0mis_shortest\u001b[0m\u001b[0;34m)\u001b[0m \u001b[0;31m# TODO: what's the result of max_all?\u001b[0m\u001b[0;34m\u001b[0m\u001b[0m\n\u001b[0m\u001b[1;32m     33\u001b[0m         \u001b[0;32mprint\u001b[0m \u001b[0msync_state\u001b[0m\u001b[0;34m,\u001b[0m \u001b[0mpath\u001b[0m\u001b[0;34m\u001b[0m\u001b[0m\n\u001b[1;32m     34\u001b[0m         \u001b[0;31m#(transition function, the length of the shortest path, path, and synchronizing state)\u001b[0m\u001b[0;34m\u001b[0m\u001b[0;34m\u001b[0m\u001b[0m\n",
      "\u001b[0;32m/home/sur096/projects/pyqit/src/haydi/base/action.pyc\u001b[0m in \u001b[0;36m__iter__\u001b[0;34m(self)\u001b[0m\n\u001b[1;32m     34\u001b[0m \u001b[0;34m\u001b[0m\u001b[0m\n\u001b[1;32m     35\u001b[0m     \u001b[0;32mdef\u001b[0m \u001b[0m__iter__\u001b[0m\u001b[0;34m(\u001b[0m\u001b[0mself\u001b[0m\u001b[0;34m)\u001b[0m\u001b[0;34m:\u001b[0m\u001b[0;34m\u001b[0m\u001b[0m\n\u001b[0;32m---> 36\u001b[0;31m         \u001b[0;32mreturn\u001b[0m \u001b[0miter\u001b[0m\u001b[0;34m(\u001b[0m\u001b[0mself\u001b[0m\u001b[0;34m.\u001b[0m\u001b[0mrun\u001b[0m\u001b[0;34m(\u001b[0m\u001b[0;34m)\u001b[0m\u001b[0;34m)\u001b[0m\u001b[0;34m\u001b[0m\u001b[0m\n\u001b[0m\u001b[1;32m     37\u001b[0m \u001b[0;34m\u001b[0m\u001b[0m\n\u001b[1;32m     38\u001b[0m \u001b[0;34m\u001b[0m\u001b[0m\n",
      "\u001b[0;32m/home/sur096/projects/pyqit/src/haydi/base/action.pyc\u001b[0m in \u001b[0;36mrun\u001b[0;34m(self, parallel, timeout)\u001b[0m\n\u001b[1;32m     27\u001b[0m                          \u001b[0mself\u001b[0m\u001b[0;34m.\u001b[0m\u001b[0mglobal_reduce_fn\u001b[0m\u001b[0;34m,\u001b[0m\u001b[0;34m\u001b[0m\u001b[0m\n\u001b[1;32m     28\u001b[0m                          \u001b[0mself\u001b[0m\u001b[0;34m.\u001b[0m\u001b[0mglobal_reduce_init\u001b[0m\u001b[0;34m,\u001b[0m\u001b[0;34m\u001b[0m\u001b[0m\n\u001b[0;32m---> 29\u001b[0;31m                          timeout)\n\u001b[0m\u001b[1;32m     30\u001b[0m         \u001b[0;32mreturn\u001b[0m \u001b[0mself\u001b[0m\u001b[0;34m.\u001b[0m\u001b[0mpostprocess\u001b[0m\u001b[0;34m(\u001b[0m\u001b[0mresult\u001b[0m\u001b[0;34m)\u001b[0m\u001b[0;34m\u001b[0m\u001b[0m\n\u001b[1;32m     31\u001b[0m \u001b[0;34m\u001b[0m\u001b[0m\n",
      "\u001b[0;32m/home/sur096/projects/pyqit/src/haydi/base/runtime/serialcontext.pyc\u001b[0m in \u001b[0;36mrun\u001b[0;34m(self, domain, worker_reduce_fn, worker_reduce_init, global_reduce_fn, global_reduce_init, timeout)\u001b[0m\n\u001b[1;32m     15\u001b[0m             \u001b[0;32melse\u001b[0m\u001b[0;34m:\u001b[0m\u001b[0;34m\u001b[0m\u001b[0m\n\u001b[1;32m     16\u001b[0m                 \u001b[0mfirst\u001b[0m \u001b[0;34m=\u001b[0m \u001b[0mworker_reduce_init\u001b[0m\u001b[0;34m(\u001b[0m\u001b[0;34m)\u001b[0m\u001b[0;34m\u001b[0m\u001b[0m\n\u001b[0;32m---> 17\u001b[0;31m             \u001b[0mresult\u001b[0m \u001b[0;34m=\u001b[0m \u001b[0mreduce\u001b[0m\u001b[0;34m(\u001b[0m\u001b[0mworker_reduce_fn\u001b[0m\u001b[0;34m,\u001b[0m \u001b[0mit\u001b[0m\u001b[0;34m,\u001b[0m \u001b[0mfirst\u001b[0m\u001b[0;34m)\u001b[0m\u001b[0;34m\u001b[0m\u001b[0m\n\u001b[0m\u001b[1;32m     18\u001b[0m         \u001b[0;32melse\u001b[0m\u001b[0;34m:\u001b[0m\u001b[0;34m\u001b[0m\u001b[0m\n\u001b[1;32m     19\u001b[0m             \u001b[0mresult\u001b[0m \u001b[0;34m=\u001b[0m \u001b[0mlist\u001b[0m\u001b[0;34m(\u001b[0m\u001b[0mdomain\u001b[0m\u001b[0;34m.\u001b[0m\u001b[0mcreate_iter\u001b[0m\u001b[0;34m(\u001b[0m\u001b[0;34m)\u001b[0m\u001b[0;34m)\u001b[0m\u001b[0;34m\u001b[0m\u001b[0m\n",
      "\u001b[0;32m/home/sur096/projects/pyqit/src/haydi/base/transform.pyc\u001b[0m in \u001b[0;36mcreate_iter\u001b[0;34m(self, step)\u001b[0m\n\u001b[1;32m     78\u001b[0m \u001b[0;34m\u001b[0m\u001b[0m\n\u001b[1;32m     79\u001b[0m     \u001b[0;32mdef\u001b[0m \u001b[0mcreate_iter\u001b[0m\u001b[0;34m(\u001b[0m\u001b[0mself\u001b[0m\u001b[0;34m,\u001b[0m \u001b[0mstep\u001b[0m\u001b[0;34m=\u001b[0m\u001b[0;36m0\u001b[0m\u001b[0;34m)\u001b[0m\u001b[0;34m:\u001b[0m\u001b[0;34m\u001b[0m\u001b[0m\n\u001b[0;32m---> 80\u001b[0;31m         \u001b[0;32mfor\u001b[0m \u001b[0mv\u001b[0m \u001b[0;32min\u001b[0m \u001b[0mself\u001b[0m\u001b[0;34m.\u001b[0m\u001b[0mparent\u001b[0m\u001b[0;34m.\u001b[0m\u001b[0mcreate_iter\u001b[0m\u001b[0;34m(\u001b[0m\u001b[0mstep\u001b[0m\u001b[0;34m)\u001b[0m\u001b[0;34m:\u001b[0m\u001b[0;34m\u001b[0m\u001b[0m\n\u001b[0m\u001b[1;32m     81\u001b[0m             \u001b[0;32mif\u001b[0m \u001b[0mself\u001b[0m\u001b[0;34m.\u001b[0m\u001b[0mfn\u001b[0m\u001b[0;34m(\u001b[0m\u001b[0mv\u001b[0m\u001b[0;34m)\u001b[0m\u001b[0;34m:\u001b[0m\u001b[0;34m\u001b[0m\u001b[0m\n\u001b[1;32m     82\u001b[0m                 \u001b[0;32myield\u001b[0m \u001b[0mv\u001b[0m\u001b[0;34m\u001b[0m\u001b[0m\n",
      "\u001b[0;32m/home/sur096/projects/pyqit/src/haydi/base/domain.pyc\u001b[0m in \u001b[0;36mcreate_iter\u001b[0;34m(self, step)\u001b[0m\n\u001b[1;32m    171\u001b[0m     \u001b[0;32mdef\u001b[0m \u001b[0mcreate_iter\u001b[0m\u001b[0;34m(\u001b[0m\u001b[0mself\u001b[0m\u001b[0;34m,\u001b[0m \u001b[0mstep\u001b[0m\u001b[0;34m=\u001b[0m\u001b[0;36m0\u001b[0m\u001b[0;34m)\u001b[0m\u001b[0;34m:\u001b[0m\u001b[0;34m\u001b[0m\u001b[0m\n\u001b[1;32m    172\u001b[0m         \u001b[0;34m\"\"\"Creates an interator over all elements of domain\"\"\"\u001b[0m\u001b[0;34m\u001b[0m\u001b[0m\n\u001b[0;32m--> 173\u001b[0;31m         \u001b[0;32mraise\u001b[0m \u001b[0mNotImplementedError\u001b[0m\u001b[0;34m(\u001b[0m\u001b[0;34m)\u001b[0m\u001b[0;34m\u001b[0m\u001b[0m\n\u001b[0m\u001b[1;32m    174\u001b[0m \u001b[0;34m\u001b[0m\u001b[0m\n\u001b[1;32m    175\u001b[0m     \u001b[0;32mdef\u001b[0m \u001b[0m__iter__\u001b[0m\u001b[0;34m(\u001b[0m\u001b[0mself\u001b[0m\u001b[0;34m)\u001b[0m\u001b[0;34m:\u001b[0m\u001b[0;34m\u001b[0m\u001b[0m\n",
      "\u001b[0;31mNotImplementedError\u001b[0m: "
     ]
    }
   ],
   "source": [
    "import sys\n",
    "sys.path.insert(0, \"../src\") # the program is placed in subdirectory of project's root\n",
    "\n",
    "import haydi as hd\n",
    "\n",
    "class DfaLTS(hd.DLTS):\n",
    "    def __init__(self, deltaf, actions):\n",
    "        hd.DLTS.__init__(self, actions)\n",
    "        self.deltaf = deltaf\n",
    "\n",
    "    def step(self, state, action):\n",
    "        return self.deltaf[(state, action)]\n",
    "    \n",
    "def compute(nstates, nsymbols):\n",
    "    \n",
    "    states = hd.Range(nstates)\n",
    "    alphabet = hd.Range(nsymbols)\n",
    "\n",
    "    print states, alphabet\n",
    "    def compute_shortest_sync_word(delta_f):\n",
    "        dfa = DfaLTS(delta_f, alphabet)\n",
    "        dfa_n_tuple = hd.DLTSProduct(tuple(dfa for i in range(nstates)))\n",
    "        print dfa_n_tuple\n",
    "\n",
    "        init_state = tuple(range(nstates))\n",
    "        is_final = lambda (states, path): len(set(states)) == 1 # singleton state\n",
    "        is_shortest = lambda (states, path): -len(path)\n",
    "\n",
    "        # (1) run BFS procedure\n",
    "        # (2) filter only those paths that leads a final state\n",
    "        # (3) take only shortest paths\n",
    "        sync_state, path = dfa_n_tuple.bfs_path(init_state)\\\n",
    "                                      .filter(is_final)\\\n",
    "                                      .max_all(is_shortest) # TODO: what's the result of max_all?\n",
    "        print sync_state, path\n",
    "        #(transition function, the length of the shortest path, path, and synchronizing state)\n",
    "        return (delta_f, len(path), path, sync_state)\n",
    "    \n",
    "    lrule = hd.Product((states, alphabet))\n",
    "    deltaf = hd.Mapping(lrule, states)\n",
    "    \n",
    "    return deltaf.take(1).map(compute_shortest_sync_word).run()\n",
    "    \n",
    "\n",
    "if __name__ == \"__main__\":\n",
    "    \n",
    "    result = compute(3, 2)\n",
    "    print result"
   ]
  },
  {
   "cell_type": "code",
   "execution_count": null,
   "metadata": {
    "collapsed": true
   },
   "outputs": [],
   "source": []
  }
 ],
 "metadata": {
  "kernelspec": {
   "display_name": "Python 2",
   "language": "python",
   "name": "python2"
  },
  "language_info": {
   "codemirror_mode": {
    "name": "ipython",
    "version": 2
   },
   "file_extension": ".py",
   "mimetype": "text/x-python",
   "name": "python",
   "nbconvert_exporter": "python",
   "pygments_lexer": "ipython2",
   "version": "2.7.10"
  }
 },
 "nbformat": 4,
 "nbformat_minor": 1
}
