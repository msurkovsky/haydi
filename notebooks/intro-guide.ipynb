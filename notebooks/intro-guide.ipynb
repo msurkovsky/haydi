{
 "cells": [
  {
   "cell_type": "markdown",
   "metadata": {},
   "source": [
    "# Haydi - How to create your own program\n",
    "\n",
    "This text presents an introductory guide that should help people to create their own program using **Haydi** framework. Haydi is a framework focusing on combinatorics problems. It allows users to formulate their problems easily and lets them check whether or not certain criteria are met. Moreover, instances confirming or contradicting the hypotheses are provided. The advantage of using Haydi is that the **resulting program can run directly on a supercomputer**, hence quite large structures can be examined. On the other hand, such infrastructure is not demanded and programs may run on one standard PC or distributively among a specific number of PCs.\n",
    "\n",
    "\n",
    "Here a user can find a **step-by-step tutorial built upon a specific problem**; particulary, Cerny's hypothesis about [synchronizing words](https://en.wikipedia.org/wiki/Synchronizing_word) in deterministic finite automata (DFA). The hypotesis states the question: _if a DFA has a synchronizing word, must it have one of length at most $(n − 1)^2$?_ This is an open question and the resulting program does not have an ambition to solve it. But it shows how much or perhaps how little effort it may take to create such a program and how large instances can be checked with it.\n",
    "\n",
    "## Definitions\n",
    "\n",
    "**Deterministic finite automaton**, is a 5-tuple, $(Q,\\Sigma, \\delta, q_0, F)$, consisting of:\n",
    " * $Q$, a finite set of states\n",
    " * $\\Sigma$, a finite set of symbols called aplphabet\n",
    " * $\\delta: Q \\times S \\to Q$, a transition function\n",
    " * $q_0 \\in Q$, an initial state,\n",
    " * $F \\subseteq Q$, a subset of final states\n",
    " \n",
    "\n",
    "**Synchronizing word**, is a finite sequnce of symbols from alphabet, $\\sigma \\in \\Sigma^*$, with a property that no matter at which state an automaton starts, following $\\sigma$ word leads to the same state, i.e. $\\forall q \\in Q, \\exists q' \\in Q: q \\xrightarrow{\\sigma} q'$.\n",
    "\n",
    "## Making a program\n",
    "Here we start making our first program using Haydi framwork. The problem of *synchronizing words* is well-known among people from the area of theoretical computer science. This problem was chosen because it is easily explainable to people while containing enough complexity; such programm will contain most of the structures and constructs that can help you to create your own program.\n",
    "\n",
    "### Before we start\n",
    "Before we can even start we need to **install Haydi**. Haydi is available on [GitHub](https://github.com/spirali/haydi) as an open-source project. It is distributed as a module that can be used in [Python](https://www.python.org/) language. All the necessary information about instalaction and project's structure can be found on its page.\n",
    "\n",
    "### Link the project and import Haidy modul\n",
    "First of all, when we start making our new program, we need to tell where Haydi modul is located and put the location into program's path. We can do this as follows:"
   ]
  },
  {
   "cell_type": "code",
   "execution_count": 2,
   "metadata": {
    "collapsed": true
   },
   "outputs": [],
   "source": [
    "import sys\n",
    "sys.path.insert(0, \"../src\") # the program is placed in subdirectory of project's root"
   ]
  },
  {
   "cell_type": "markdown",
   "metadata": {},
   "source": [
    "At this point we can import Haydi modul. It cointain all of the structures that are par of public API. All the structures with their description can be found in reference manual **#TODO: odkaz**"
   ]
  },
  {
   "cell_type": "code",
   "execution_count": 4,
   "metadata": {
    "collapsed": false
   },
   "outputs": [],
   "source": [
    "import haydi as hd"
   ]
  },
  {
   "cell_type": "markdown",
   "metadata": {},
   "source": [
    "### Prepare the structures\n",
    "Here we are in state when we succesfully installed Haydi, linked it to our program, and import the module. Now, we can start to make our program.\n",
    "\n",
    "As stated in the introduction, Haydi is a suitable framework for programs that either systematicaly or randomly explore a bunch of a problem's instances and find those satisfying certain criteria. In this context, **the first task** we are going to address, is to define that _bunch_ of the problem's instances?\n",
    "\n",
    "The very basic structure in Haydi is **Domain**. It represents common interface for defining a set of data and how to work with it. A domain can be created by using one from the predefined or as composition of already created domains. An example of simple domain is **Range(start, end, step)**, that defines a sequence of integers going from _start_ upto _end_ with _step_ between values.\n",
    "\n",
    "To find a synchronizing automanton, we need to define its structure. From definition we see that finite automaton is 5-tuple of specific items. First two are a set of states $Q$ and alphabet $\\Sigma$. We can describe them by using _Range_ domain as follows."
   ]
  },
  {
   "cell_type": "code",
   "execution_count": 10,
   "metadata": {
    "collapsed": false
   },
   "outputs": [],
   "source": [
    "# our structure is describing all finite automata with three states and two symbols in alphabet.\n",
    "nstates = 3\n",
    "nsymbols = 2\n",
    "\n",
    "states = hd.Range(nstates)\n",
    "alphabet = hd.Range(nsymbols)"
   ]
  },
  {
   "cell_type": "markdown",
   "metadata": {},
   "source": [
    "The thrid item is transition function. The definition states that from a couple of state and symbol we derive a new state. We split a definition of transition function into two steps. Firstly, we define a left-hand side of a mapping and then the right-hand side."
   ]
  },
  {
   "cell_type": "code",
   "execution_count": 11,
   "metadata": {
    "collapsed": false
   },
   "outputs": [
    {
     "ename": "AttributeError",
     "evalue": "'int' object has no attribute 'size'",
     "output_type": "error",
     "traceback": [
      "\u001b[0;31m---------------------------------------------------------------------------\u001b[0m",
      "\u001b[0;31mAttributeError\u001b[0m                            Traceback (most recent call last)",
      "\u001b[0;32m<ipython-input-11-6c5042fbc507>\u001b[0m in \u001b[0;36m<module>\u001b[0;34m()\u001b[0m\n\u001b[0;32m----> 1\u001b[0;31m \u001b[0mlrule\u001b[0m \u001b[0;34m=\u001b[0m \u001b[0mhd\u001b[0m\u001b[0;34m.\u001b[0m\u001b[0mProduct\u001b[0m\u001b[0;34m(\u001b[0m\u001b[0mstates\u001b[0m\u001b[0;34m,\u001b[0m \u001b[0malphabet\u001b[0m\u001b[0;34m)\u001b[0m\u001b[0;34m\u001b[0m\u001b[0m\n\u001b[0m\u001b[1;32m      2\u001b[0m \u001b[0;32mprint\u001b[0m \u001b[0mlrule\u001b[0m\u001b[0;34m\u001b[0m\u001b[0m\n\u001b[1;32m      3\u001b[0m \u001b[0;34m\u001b[0m\u001b[0m\n\u001b[1;32m      4\u001b[0m \u001b[0;31m#alternatively we can define lrule by using a '*' operator:\u001b[0m\u001b[0;34m\u001b[0m\u001b[0;34m\u001b[0m\u001b[0m\n\u001b[1;32m      5\u001b[0m \u001b[0;31m# lrule = states * alphabet\u001b[0m\u001b[0;34m\u001b[0m\u001b[0;34m\u001b[0m\u001b[0m\n",
      "\u001b[0;32m/home/sur096/projects/pyqit/src/haydi/base/product.pyc\u001b[0m in \u001b[0;36m__init__\u001b[0;34m(self, domains, name, unordered, cache_size)\u001b[0m\n\u001b[1;32m     17\u001b[0m                  cache_size=0):\n\u001b[1;32m     18\u001b[0m         \u001b[0mdomains\u001b[0m \u001b[0;34m=\u001b[0m \u001b[0mtuple\u001b[0m\u001b[0;34m(\u001b[0m\u001b[0mdomains\u001b[0m\u001b[0;34m)\u001b[0m\u001b[0;34m\u001b[0m\u001b[0m\n\u001b[0;32m---> 19\u001b[0;31m         \u001b[0msize\u001b[0m \u001b[0;34m=\u001b[0m \u001b[0mself\u001b[0m\u001b[0;34m.\u001b[0m\u001b[0m_compute_size\u001b[0m\u001b[0;34m(\u001b[0m\u001b[0;34m[\u001b[0m\u001b[0md\u001b[0m\u001b[0;34m.\u001b[0m\u001b[0msize\u001b[0m \u001b[0;32mfor\u001b[0m \u001b[0md\u001b[0m \u001b[0;32min\u001b[0m \u001b[0mdomains\u001b[0m\u001b[0;34m]\u001b[0m\u001b[0;34m,\u001b[0m \u001b[0munordered\u001b[0m\u001b[0;34m)\u001b[0m\u001b[0;34m\u001b[0m\u001b[0m\n\u001b[0m\u001b[1;32m     20\u001b[0m         \u001b[0msteps\u001b[0m \u001b[0;34m=\u001b[0m \u001b[0mself\u001b[0m\u001b[0;34m.\u001b[0m\u001b[0m_compute_size\u001b[0m\u001b[0;34m(\u001b[0m\u001b[0;34m[\u001b[0m\u001b[0md\u001b[0m\u001b[0;34m.\u001b[0m\u001b[0msteps\u001b[0m \u001b[0;32mfor\u001b[0m \u001b[0md\u001b[0m \u001b[0;32min\u001b[0m \u001b[0mdomains\u001b[0m\u001b[0;34m]\u001b[0m\u001b[0;34m,\u001b[0m \u001b[0munordered\u001b[0m\u001b[0;34m)\u001b[0m\u001b[0;34m\u001b[0m\u001b[0m\n\u001b[1;32m     21\u001b[0m         \u001b[0mexact_size\u001b[0m \u001b[0;34m=\u001b[0m \u001b[0mall\u001b[0m\u001b[0;34m(\u001b[0m\u001b[0md\u001b[0m\u001b[0;34m.\u001b[0m\u001b[0mexact_size\u001b[0m \u001b[0;32mfor\u001b[0m \u001b[0md\u001b[0m \u001b[0;32min\u001b[0m \u001b[0mdomains\u001b[0m\u001b[0;34m)\u001b[0m\u001b[0;34m\u001b[0m\u001b[0m\n",
      "\u001b[0;31mAttributeError\u001b[0m: 'int' object has no attribute 'size'"
     ]
    }
   ],
   "source": [
    "lrule = hd.Product((states, alphabet)\n",
    "print lrule\n",
    "\n",
    "#alternatively we can define lrule by using a '*' operator:\n",
    "# lrule = states * alphabet\n",
    "\n",
    "#deltaf = hd.Mapping(lrule, states)\n",
    "\n",
    "#print deltaf"
   ]
  },
  {
   "cell_type": "code",
   "execution_count": null,
   "metadata": {
    "collapsed": true
   },
   "outputs": [],
   "source": []
  }
 ],
 "metadata": {
  "kernelspec": {
   "display_name": "Python 2",
   "language": "python",
   "name": "python2"
  },
  "language_info": {
   "codemirror_mode": {
    "name": "ipython",
    "version": 2
   },
   "file_extension": ".py",
   "mimetype": "text/x-python",
   "name": "python",
   "nbconvert_exporter": "python",
   "pygments_lexer": "ipython2",
   "version": "2.7.10"
  }
 },
 "nbformat": 4,
 "nbformat_minor": 1
}
